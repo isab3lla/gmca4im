{
 "cells": [
  {
   "cell_type": "code",
   "execution_count": 2,
   "metadata": {},
   "outputs": [
    {
     "name": "stdout",
     "output_type": "stream",
     "text": [
      "The autoreload extension is already loaded. To reload it, use:\n",
      "  %reload_ext autoreload\n"
     ]
    }
   ],
   "source": [
    "## good for development\n",
    "%load_ext autoreload\n",
    "%autoreload 2"
   ]
  },
  {
   "cell_type": "code",
   "execution_count": null,
   "metadata": {},
   "outputs": [],
   "source": []
  },
  {
   "cell_type": "code",
   "execution_count": null,
   "metadata": {},
   "outputs": [],
   "source": []
  },
  {
   "cell_type": "markdown",
   "metadata": {},
   "source": [
    "# Do the wavelet transform of the maps"
   ]
  },
  {
   "cell_type": "code",
   "execution_count": 20,
   "metadata": {},
   "outputs": [],
   "source": [
    "import numpy as np\n",
    "import h5py\n",
    "import matplotlib.pyplot as plt\n",
    "\n",
    "import gmca4im_lib2 as g4i\n"
   ]
  },
  {
   "cell_type": "code",
   "execution_count": 5,
   "metadata": {},
   "outputs": [],
   "source": [
    "file = h5py.File('../sim_10MHz.hd5','r')"
   ]
  },
  {
   "cell_type": "code",
   "execution_count": 6,
   "metadata": {},
   "outputs": [
    {
     "data": {
      "text/plain": [
       "<KeysViewHDF5 ['cosmological_signal', 'frequencies', 'gal_ff', 'gal_synch', 'noise', 'point_sources', 'pol_leakage']>"
      ]
     },
     "execution_count": 6,
     "metadata": {},
     "output_type": "execute_result"
    }
   ],
   "source": [
    "file.keys()"
   ]
  },
  {
   "cell_type": "code",
   "execution_count": 7,
   "metadata": {},
   "outputs": [],
   "source": [
    "components = ['cosmological_signal', 'gal_ff', 'gal_synch', 'noise', 'point_sources', 'pol_leakage']"
   ]
  },
  {
   "cell_type": "code",
   "execution_count": 8,
   "metadata": {},
   "outputs": [],
   "source": [
    "nu_ch = np.array(file['frequencies'])"
   ]
  },
  {
   "cell_type": "code",
   "execution_count": 10,
   "metadata": {},
   "outputs": [
    {
     "data": {
      "text/plain": [
       "40"
      ]
     },
     "execution_count": 10,
     "metadata": {},
     "output_type": "execute_result"
    }
   ],
   "source": [
    "len(nu_ch)"
   ]
  },
  {
   "cell_type": "markdown",
   "metadata": {},
   "source": [
    "Preparing the observed map (sum of all components + noise):"
   ]
  },
  {
   "cell_type": "code",
   "execution_count": 11,
   "metadata": {},
   "outputs": [
    {
     "name": "stdout",
     "output_type": "stream",
     "text": [
      "cosmological_signal\n",
      "gal_ff\n",
      "gal_synch\n",
      "noise\n",
      "point_sources\n",
      "pol_leakage\n"
     ]
    }
   ],
   "source": [
    "npix = np.shape(file['cosmological_signal'])[1]\n",
    "obs_maps = np.zeros((len(nu_ch),npix))\n",
    "\n",
    "for c in components:\n",
    "    print(c)\n",
    "    tmp_component = np.array(file[c])\n",
    "    obs_maps += tmp_component\n",
    "    del tmp_component\n",
    "    \n",
    "## remove mean\n",
    "obs_maps = np.array([[obs_maps[i] - np.mean(obs_maps[i],axis=0)] for i in range(len(nu_ch))])\n",
    "obs_maps = obs_maps[:,0,:]"
   ]
  },
  {
   "cell_type": "markdown",
   "metadata": {},
   "source": [
    "Running the wavelet transform of maps:"
   ]
  },
  {
   "cell_type": "code",
   "execution_count": 13,
   "metadata": {},
   "outputs": [
    {
     "name": "stdout",
     "output_type": "stream",
     "text": [
      "\n",
      "Wavelet transforming the data . . .\n",
      ". . completed in 5.32 minutes\n",
      "\n"
     ]
    }
   ],
   "source": [
    "## wavelet transform it\n",
    "X_wt = g4i.wavelet_transform(obs_maps)"
   ]
  },
  {
   "cell_type": "code",
   "execution_count": 17,
   "metadata": {},
   "outputs": [
    {
     "data": {
      "text/plain": [
       "(40, 2359296)"
      ]
     },
     "execution_count": 17,
     "metadata": {},
     "output_type": "execute_result"
    }
   ],
   "source": [
    "X_wt.shape"
   ]
  },
  {
   "cell_type": "markdown",
   "metadata": {},
   "source": [
    "#### Let's have a look at the eigenvalues"
   ]
  },
  {
   "cell_type": "code",
   "execution_count": 22,
   "metadata": {},
   "outputs": [],
   "source": [
    "## function for extracting eigenvalues\n",
    "def EVN(X):\n",
    "    C_ij = np.cov(X) #Obtain frequency covariance matrix for input data\n",
    "    # Get the eigenvalues and eigenvectors of covariance matrix:\n",
    "    eigenval, eigenvec = np.linalg.eigh(C_ij)\n",
    "    eigenval = eigenval[::-1] # largest eigenvals first\n",
    "    del eigenvec\n",
    "\n",
    "    return eigenval"
   ]
  },
  {
   "cell_type": "code",
   "execution_count": 57,
   "metadata": {},
   "outputs": [
    {
     "data": {
      "image/png": "[encoded data removed]",
      "text/plain": [
       "<Figure size 720x432 with 1 Axes>"
      ]
     },
     "metadata": {
      "needs_background": "light"
     },
     "output_type": "display_data"
    }
   ],
   "source": [
    "plt.rcParams[\"figure.figsize\"] = (10,6)\n",
    "plt.rcParams[\"axes.labelsize\"] = 12\n",
    "\n",
    "plt.semilogy(EVN(X_wt),'--s',c='#ff7f0e',mfc='none',markersize=10,label='wavelet-space')\n",
    "plt.semilogy(EVN(obs_maps),'-o',c='#1f77b4',markersize=6,label='pixel-space')\n",
    "\n",
    "plt.legend(fontsize=12)\n",
    "x_ticks = np.arange(25)\n",
    "ax = plt.gca()\n",
    "ax.set(xlim=[-1,20],xticks=x_ticks,xlabel=\"eigenvalue number\",ylabel=\"$\\\\lambda$\",title='Eigenvalues');\n",
    "\n"
   ]
  },
  {
   "cell_type": "markdown",
   "metadata": {},
   "source": [
    "# Let's run GMCA"
   ]
  },
  {
   "cell_type": "code",
   "execution_count": 61,
   "metadata": {},
   "outputs": [
    {
     "name": "stdout",
     "output_type": "stream",
     "text": [
      "\n",
      "Now running GMCA . . .\n",
      ". . completed in 3.11 minutes\n",
      "\n"
     ]
    }
   ],
   "source": [
    "################   GMCA PARAMETERS   ##################\n",
    "n_s   = 3   # number of sources to be estimated\n",
    "mints = 0.1 # min threshold\n",
    "nmax  = 100 # number of iterations\n",
    "L0    = 0   # switch between L0 norm (1) or L1 norm (0)\n",
    "#######################################################\n",
    "\n",
    "# initial guess for the mixing matrix?\n",
    "# i.e. we could start from PCA-determined mix matrix\n",
    "AInit = None\n",
    "\n",
    "# we can impose a column of the mixing matrix\n",
    "ColFixed = None\n",
    "\n",
    "# we can whiten the data\n",
    "whitening = False; epsi = 1e-3\n",
    "\n",
    "# estimated mixing matrix:\n",
    "Ae = g4i.run_GMCA(X_wt,AInit,n_s,mints,nmax,L0,ColFixed,whitening,epsi)"
   ]
  },
  {
   "cell_type": "markdown",
   "metadata": {},
   "source": [
    "#### Let's have a look at the column of the mixing matrix"
   ]
  },
  {
   "cell_type": "code",
   "execution_count": 91,
   "metadata": {},
   "outputs": [
    {
     "data": {
      "text/plain": [
       "<matplotlib.legend.Legend at 0x119dc1cf8>"
      ]
     },
     "execution_count": 91,
     "metadata": {},
     "output_type": "execute_result"
    },
    {
     "data": {
      "image/png": "[encoded data removed]",
      "text/plain": [
       "<Figure size 720x432 with 1 Axes>"
      ]
     },
     "metadata": {
      "needs_background": "light"
     },
     "output_type": "display_data"
    }
   ],
   "source": [
    "# gal freefree spectral index for reference\n",
    "FF_col = np.array([nu_ch**(-2.13)]).T \n",
    "\n",
    "# gal synchrotron spectral index region for referencex = np.arange(0,len(nu_ch))\n",
    "sync_A = np.array([nu_ch**(-3.2)]).T; y1 = sync_A/np.linalg.norm(sync_A)\n",
    "sync_B = np.array([nu_ch**(-2.6)]).T; y2 = sync_B/np.linalg.norm(sync_B)\n",
    "\n",
    "### actual plotting\n",
    "plt.rcParams[\"figure.figsize\"] = (10,6)\n",
    "plt.rcParams[\"axes.labelsize\"] = 12\n",
    "\n",
    "x = np.arange(0,len(nu_ch))\n",
    "\n",
    "plt.fill_between(x,y1.T[0],y2.T[0],alpha=0.3,label='gal synch')\n",
    "plt.plot(abs(Ae/np.linalg.norm(Ae,axis=0)))\n",
    "plt.plot(FF_col/np.linalg.norm(FF_col),'m:',label='gal ff')\n",
    "\n",
    "ax = plt.gca()\n",
    "ax.set(ylim=[0.0,0.5],xlabel=\"frequency channel\",title='mixing matrix columns');\n",
    "plt.legend(fontsize=12)"
   ]
  },
  {
   "cell_type": "code",
   "execution_count": 81,
   "metadata": {},
   "outputs": [
    {
     "data": {
      "text/plain": [
       "array([0.25910973, 0.25015643, 0.24160484, 0.23343287, 0.22561989,\n",
       "       0.21814657, 0.21099481, 0.20414766, 0.19758921, 0.19130456,\n",
       "       0.18527967, 0.1795014 , 0.17395736, 0.16863591, 0.16352609,\n",
       "       0.15861757, 0.15390064, 0.14936611, 0.14500534, 0.14081016,\n",
       "       0.13677284, 0.13288611, 0.12914307, 0.12553719, 0.12206232,\n",
       "       0.1187126 , 0.11548251, 0.1123668 , 0.10936049, 0.10645888,\n",
       "       0.10365747, 0.10095204, 0.09833852, 0.0958131 , 0.09337213,\n",
       "       0.09101212, 0.0887298 , 0.08652201, 0.08438576, 0.08231821])"
      ]
     },
     "execution_count": 81,
     "metadata": {},
     "output_type": "execute_result"
    }
   ],
   "source": [
    "y1.T[0]"
   ]
  },
  {
   "cell_type": "code",
   "execution_count": null,
   "metadata": {},
   "outputs": [],
   "source": []
  },
  {
   "cell_type": "code",
   "execution_count": null,
   "metadata": {},
   "outputs": [],
   "source": []
  },
  {
   "cell_type": "code",
   "execution_count": null,
   "metadata": {},
   "outputs": [],
   "source": []
  },
  {
   "cell_type": "code",
   "execution_count": null,
   "metadata": {},
   "outputs": [],
   "source": []
  }
 ],
 "metadata": {
  "kernelspec": {
   "display_name": "Python 3",
   "language": "python",
   "name": "python3"
  },
  "language_info": {
   "codemirror_mode": {
    "name": "ipython",
    "version": 3
   },
   "file_extension": ".py",
   "mimetype": "text/x-python",
   "name": "python",
   "nbconvert_exporter": "python",
   "pygments_lexer": "ipython3",
   "version": "3.7.3"
  }
 },
 "nbformat": 4,
 "nbformat_minor": 2
}
